{
 "cells": [
  {
   "cell_type": "code",
   "execution_count": 1,
   "metadata": {},
   "outputs": [],
   "source": [
    "import numpy as np\n",
    "import tensorflow as tf"
   ]
  },
  {
   "cell_type": "code",
   "execution_count": 2,
   "metadata": {},
   "outputs": [],
   "source": [
    "# 参数设置\n",
    "num_examples = 10\n",
    "num_words = 20\n",
    "num_features = 100\n",
    "num_tags = 5\n",
    "# 构建随机特征\n",
    "x = np.random.rand(num_examples, num_words, num_features).astype(np.float32)\n",
    "# 构建随机tag\n",
    "y = np.random.randint(\n",
    "    num_tags, size=[num_examples, num_words]).astype(np.int32)\n",
    "\n",
    "# 获取样本句长向量（因为每一个样本可能包含不一样多的词），在这里统一设为 num_words - 1，真实情况下根据需要设置\n",
    "sequence_lengths = np.full(num_examples, num_words - 1, dtype=np.int32)"
   ]
  },
  {
   "cell_type": "code",
   "execution_count": 3,
   "metadata": {},
   "outputs": [
    {
     "name": "stdout",
     "output_type": "stream",
     "text": [
      "WARNING:tensorflow:From /Users/turing/.virtualenvs/tf14/lib/python3.7/site-packages/tensorflow/python/ops/init_ops.py:1251: calling VarianceScaling.__init__ (from tensorflow.python.ops.init_ops) with dtype is deprecated and will be removed in a future version.\n",
      "Instructions for updating:\n",
      "Call initializer instance with the dtype argument instead of passing it to the constructor\n",
      "WARNING:tensorflow:\n",
      "The TensorFlow contrib module will not be included in TensorFlow 2.0.\n",
      "For more information, please see:\n",
      "  * https://github.com/tensorflow/community/blob/master/rfcs/20180907-contrib-sunset.md\n",
      "  * https://github.com/tensorflow/addons\n",
      "  * https://github.com/tensorflow/io (for I/O related ops)\n",
      "If you depend on functionality not listed there, please file an issue.\n",
      "\n",
      "WARNING:tensorflow:From /Users/turing/.virtualenvs/tf14/lib/python3.7/site-packages/tensorflow/contrib/crf/python/ops/crf.py:213: dynamic_rnn (from tensorflow.python.ops.rnn) is deprecated and will be removed in a future version.\n",
      "Instructions for updating:\n",
      "Please use `keras.layers.RNN(cell)`, which is equivalent to this API\n",
      "WARNING:tensorflow:From /Users/turing/.virtualenvs/tf14/lib/python3.7/site-packages/tensorflow/python/ops/math_ops.py:2403: add_dispatch_support.<locals>.wrapper (from tensorflow.python.ops.array_ops) is deprecated and will be removed in a future version.\n",
      "Instructions for updating:\n",
      "Use tf.where in 2.0, which has the same broadcast rule as np.where\n",
      "Accuracy: 16.84%\n",
      "Accuracy: 56.32%\n",
      "Accuracy: 72.11%\n",
      "Accuracy: 76.32%\n",
      "Accuracy: 81.05%\n",
      "Accuracy: 85.26%\n",
      "Accuracy: 85.79%\n",
      "Accuracy: 87.37%\n",
      "Accuracy: 88.95%\n",
      "Accuracy: 91.05%\n"
     ]
    }
   ],
   "source": [
    "# 训练，评估模型\n",
    "with tf.Graph().as_default():\n",
    "    with tf.Session() as session:\n",
    "        x_t = tf.constant(x)\n",
    "        y_t = tf.constant(y)\n",
    "        sequence_lengths_t = tf.constant(sequence_lengths)\n",
    "\n",
    "        # 在这里设置一个无偏置的线性层\n",
    "        weights = tf.get_variable(\"weights\", [num_features, num_tags])\n",
    "        matricized_x_t = tf.reshape(x_t, [-1, num_features])\n",
    "        matricized_unary_scores = tf.matmul(matricized_x_t, weights)\n",
    "        unary_scores = tf.reshape(matricized_unary_scores,\n",
    "                                  [num_examples, num_words, num_tags])\n",
    "\n",
    "        # 计算log-likelihood并获得transition_params\n",
    "        log_likelihood, transition_params = tf.contrib.crf.crf_log_likelihood(\n",
    "            unary_scores, y_t, sequence_lengths_t)\n",
    "\n",
    "        # 进行解码（维特比算法），获得解码之后的序列viterbi_sequence和分数viterbi_score\n",
    "        viterbi_sequence, viterbi_score = tf.contrib.crf.crf_decode(\n",
    "            unary_scores, transition_params, sequence_lengths_t)\n",
    "\n",
    "        loss = tf.reduce_mean(-log_likelihood)\n",
    "        train_op = tf.train.GradientDescentOptimizer(0.01).minimize(loss)\n",
    "\n",
    "        session.run(tf.global_variables_initializer())\n",
    "\n",
    "        mask = (np.expand_dims(np.arange(num_words), axis=0) <     # np.arange()创建等差数组\n",
    "                np.expand_dims(sequence_lengths, axis=1))          # np.expand_dims()扩张维度\n",
    "\n",
    "        # 得到一个num_examples*num_words的二维数组，数据类型为布尔型，目的是对句长进行截断\n",
    "\n",
    "        # 将每个样本的sequence_lengths加起来，得到标签的总数\n",
    "        total_labels = np.sum(sequence_lengths)\n",
    "\n",
    "        # 进行训练\n",
    "        for i in range(1000):\n",
    "            tf_viterbi_sequence, _ = session.run([viterbi_sequence, train_op])\n",
    "            if i % 100 == 0:\n",
    "                correct_labels = np.sum((y == tf_viterbi_sequence) * mask)\n",
    "                accuracy = 100.0 * correct_labels / float(total_labels)\n",
    "                print(\"Accuracy: %.2f%%\" % accuracy)\n"
   ]
  }
 ],
 "metadata": {
  "kernelspec": {
   "display_name": "Python 3",
   "language": "python",
   "name": "python3"
  },
  "language_info": {
   "codemirror_mode": {
    "name": "ipython",
    "version": 3
   },
   "file_extension": ".py",
   "mimetype": "text/x-python",
   "name": "python",
   "nbconvert_exporter": "python",
   "pygments_lexer": "ipython3",
   "version": "3.7.5"
  },
  "toc": {
   "base_numbering": 1,
   "nav_menu": {},
   "number_sections": true,
   "sideBar": true,
   "skip_h1_title": false,
   "title_cell": "Table of Contents",
   "title_sidebar": "Contents",
   "toc_cell": false,
   "toc_position": {},
   "toc_section_display": true,
   "toc_window_display": false
  }
 },
 "nbformat": 4,
 "nbformat_minor": 4
}
