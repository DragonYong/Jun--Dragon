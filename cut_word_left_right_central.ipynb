{
 "cells": [
  {
   "cell_type": "code",
   "execution_count": 1,
   "metadata": {},
   "outputs": [],
   "source": [
    "text = \"微信公众号码龙社传播视觉和自然语言技术\"\n",
    "dict_word = ['微信', '公众号', '码龙社', '传播', '视觉', '和', '自然', '自然语言', '技术']\n",
    "window_size = 5"
   ]
  },
  {
   "cell_type": "code",
   "execution_count": 2,
   "metadata": {},
   "outputs": [
    {
     "data": {
      "text/plain": [
       "['微信', '公众号', '码龙社', '传播', '视觉', '和', '自然语言', '技术']"
      ]
     },
     "execution_count": 2,
     "metadata": {},
     "output_type": "execute_result"
    }
   ],
   "source": [
    "def right_cut(text, dict):\n",
    "    result = []\n",
    "    index = len(text)\n",
    "    while index > 0:\n",
    "        for size in range(index - window_size, index):\n",
    "            piece = text[size:index]\n",
    "            if piece in dict:\n",
    "                index = size + 1\n",
    "                break\n",
    "        index = index - 1\n",
    "        result.append(piece)\n",
    "    result.reverse()\n",
    "    return result\n",
    "\n",
    "\n",
    "right_result = right_cut(text, dict_word)\n",
    "right_result"
   ]
  },
  {
   "cell_type": "code",
   "execution_count": 3,
   "metadata": {},
   "outputs": [
    {
     "data": {
      "text/plain": [
       "['微信', '公众号', '码龙社', '传播', '视觉', '和', '自然语言', '技术']"
      ]
     },
     "execution_count": 3,
     "metadata": {},
     "output_type": "execute_result"
    }
   ],
   "source": [
    "def left_cut(text, dict_word):\n",
    "    result = []\n",
    "    index = 0\n",
    "    text_length = len(text)\n",
    "    while text_length > index:\n",
    "        for size in range(window_size + index, index, -1):\n",
    "            piece = text[index:size]\n",
    "            if piece in dict_word:\n",
    "                index = size - 1\n",
    "                break\n",
    "        index = index + 1\n",
    "        result.append(piece)\n",
    "    return result\n",
    "\n",
    "\n",
    "left_result = left_cut(text, dict_word)\n",
    "left_result"
   ]
  },
  {
   "cell_type": "code",
   "execution_count": 5,
   "metadata": {},
   "outputs": [
    {
     "data": {
      "text/plain": [
       "['微信', '公众号', '码龙社', '传播', '视觉', '和', '自然语言', '技术']"
      ]
     },
     "execution_count": 5,
     "metadata": {},
     "output_type": "execute_result"
    }
   ],
   "source": [
    "def central_cut(left_result, right_result):\n",
    "    if len(left_result) == len(right_result):\n",
    "        if right_result == left_result:\n",
    "            res = right_result\n",
    "        else:\n",
    "            temp_right = []\n",
    "            for i in right_result:\n",
    "                if len(i) == 1:\n",
    "                    temp_right.append(i)\n",
    "            temp_left = []\n",
    "            for j in left_result:\n",
    "                if len(j) == 1:\n",
    "                    temp_left.append(i)\n",
    "            res = [\n",
    "                right_result\n",
    "                if len(temp_right) < len(temp_left) else left_result\n",
    "            ]\n",
    "    else:\n",
    "        res = [\n",
    "            right_result\n",
    "            if len(right_result) < len(left_result) else left_result\n",
    "        ]\n",
    "\n",
    "    return res\n",
    "\n",
    "\n",
    "central_result = central_cut(left_result, right_result)\n",
    "central_result"
   ]
  }
 ],
 "metadata": {
  "kernelspec": {
   "display_name": "Python 3",
   "language": "python",
   "name": "python3"
  },
  "language_info": {
   "codemirror_mode": {
    "name": "ipython",
    "version": 3
   },
   "file_extension": ".py",
   "mimetype": "text/x-python",
   "name": "python",
   "nbconvert_exporter": "python",
   "pygments_lexer": "ipython3",
   "version": "3.7.5"
  },
  "toc": {
   "base_numbering": 1,
   "nav_menu": {},
   "number_sections": true,
   "sideBar": true,
   "skip_h1_title": false,
   "title_cell": "Table of Contents",
   "title_sidebar": "Contents",
   "toc_cell": false,
   "toc_position": {},
   "toc_section_display": true,
   "toc_window_display": false
  }
 },
 "nbformat": 4,
 "nbformat_minor": 4
}
