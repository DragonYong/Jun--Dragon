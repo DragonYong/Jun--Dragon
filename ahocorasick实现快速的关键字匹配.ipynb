{
 "cells": [
  {
   "cell_type": "code",
   "execution_count": 1,
   "metadata": {},
   "outputs": [
    {
     "name": "stdout",
     "output_type": "stream",
     "text": [
      "Collecting pyahocorasick\n",
      "  Downloading pyahocorasick-1.4.0.tar.gz (312 kB)\n",
      "\u001b[K     |████████████████████████████████| 312 kB 239 kB/s eta 0:00:01\n",
      "\u001b[?25hBuilding wheels for collected packages: pyahocorasick\n",
      "  Building wheel for pyahocorasick (setup.py) ... \u001b[?25ldone\n",
      "\u001b[?25h  Created wheel for pyahocorasick: filename=pyahocorasick-1.4.0-cp37-cp37m-macosx_10_9_x86_64.whl size=30963 sha256=55e9dc769495fc793e1c0e7def0222bddcba304e812782e7a6ff67f62e6523da\n",
      "  Stored in directory: /Users/turing/Library/Caches/pip/wheels/9b/6b/f7/62dc8caf183b125107209c014e78c340a0b4b7b392c23c2db4\n",
      "Successfully built pyahocorasick\n",
      "Installing collected packages: pyahocorasick\n",
      "Successfully installed pyahocorasick-1.4.0\n"
     ]
    }
   ],
   "source": [
    "!pip install pyahocorasick"
   ]
  },
  {
   "cell_type": "code",
   "execution_count": 2,
   "metadata": {},
   "outputs": [],
   "source": [
    "import ahocorasick\n",
    "A = ahocorasick.Automaton()"
   ]
  },
  {
   "cell_type": "code",
   "execution_count": 3,
   "metadata": {},
   "outputs": [],
   "source": [
    "for idx, key in enumerate('我 经常 在 微信 公众号 码龙社 看 文章'.split()):\n",
    "    A.add_word(key, (idx, key))"
   ]
  },
  {
   "cell_type": "code",
   "execution_count": 4,
   "metadata": {},
   "outputs": [
    {
     "data": {
      "text/plain": [
       "True"
      ]
     },
     "execution_count": 4,
     "metadata": {},
     "output_type": "execute_result"
    }
   ],
   "source": [
    "'码龙社' in A"
   ]
  },
  {
   "cell_type": "code",
   "execution_count": 5,
   "metadata": {},
   "outputs": [
    {
     "data": {
      "text/plain": [
       "False"
      ]
     },
     "execution_count": 5,
     "metadata": {},
     "output_type": "execute_result"
    }
   ],
   "source": [
    "'牛皮普拉斯' in A"
   ]
  },
  {
   "cell_type": "code",
   "execution_count": 6,
   "metadata": {},
   "outputs": [
    {
     "data": {
      "text/plain": [
       "(0, '我')"
      ]
     },
     "execution_count": 6,
     "metadata": {},
     "output_type": "execute_result"
    }
   ],
   "source": [
    "A.get('我')"
   ]
  },
  {
   "cell_type": "code",
   "execution_count": 7,
   "metadata": {},
   "outputs": [
    {
     "data": {
      "text/plain": [
       "(5, '码龙社')"
      ]
     },
     "execution_count": 7,
     "metadata": {},
     "output_type": "execute_result"
    }
   ],
   "source": [
    "A.get('码龙社')"
   ]
  },
  {
   "cell_type": "code",
   "execution_count": 8,
   "metadata": {},
   "outputs": [],
   "source": [
    "A.make_automaton()"
   ]
  },
  {
   "cell_type": "code",
   "execution_count": 11,
   "metadata": {},
   "outputs": [
    {
     "name": "stdout",
     "output_type": "stream",
     "text": [
      "(0, 0, (0, '我'))\n",
      "(2, 2, (2, '在'))\n"
     ]
    }
   ],
   "source": [
    "sentence = '我 在 这'\n",
    "for end_index, (insert_order, original_value) in A.iter(sentence):\n",
    "    start_index = end_index - len(original_value) + 1\n",
    "    print((start_index, end_index, (insert_order, original_value)))\n",
    "    assert sentence[start_index:start_index + len(original_value)] == original_value"
   ]
  },
  {
   "cell_type": "code",
   "execution_count": 12,
   "metadata": {},
   "outputs": [
    {
     "name": "stdout",
     "output_type": "stream",
     "text": [
      "(0, 0, (0, '我'))\n"
     ]
    }
   ],
   "source": [
    "sentence = '我 爱 北京 天安门'\n",
    "for end_index, (insert_order, original_value) in A.iter(sentence):\n",
    "    start_index = end_index - len(original_value) + 1\n",
    "    print((start_index, end_index, (insert_order, original_value)))\n",
    "    assert sentence[start_index:start_index + len(original_value)] == original_value"
   ]
  },
  {
   "cell_type": "code",
   "execution_count": 13,
   "metadata": {},
   "outputs": [
    {
     "name": "stdout",
     "output_type": "stream",
     "text": [
      "(0, 0, (0, '我'))\n",
      "(4, 4, (2, '在'))\n",
      "(15, 15, (6, '看'))\n",
      "(17, 18, (3, '微信'))\n",
      "(20, 22, (4, '公众号'))\n",
      "(24, 26, (5, '码龙社'))\n",
      "(30, 31, (7, '文章'))\n"
     ]
    }
   ],
   "source": [
    "sentence = '我 爱 在 北京 天安门 下 看 微信 公众号 码龙社 的 文章'\n",
    "for end_index, (insert_order, original_value) in A.iter(sentence):\n",
    "    start_index = end_index - len(original_value) + 1\n",
    "    print((start_index, end_index, (insert_order, original_value)))\n",
    "    assert sentence[start_index:start_index + len(original_value)] == original_value"
   ]
  }
 ],
 "metadata": {
  "kernelspec": {
   "display_name": "Python 3",
   "language": "python",
   "name": "python3"
  },
  "language_info": {
   "codemirror_mode": {
    "name": "ipython",
    "version": 3
   },
   "file_extension": ".py",
   "mimetype": "text/x-python",
   "name": "python",
   "nbconvert_exporter": "python",
   "pygments_lexer": "ipython3",
   "version": "3.7.5"
  },
  "toc": {
   "base_numbering": 1,
   "nav_menu": {},
   "number_sections": true,
   "sideBar": true,
   "skip_h1_title": false,
   "title_cell": "Table of Contents",
   "title_sidebar": "Contents",
   "toc_cell": false,
   "toc_position": {},
   "toc_section_display": true,
   "toc_window_display": false
  }
 },
 "nbformat": 4,
 "nbformat_minor": 4
}
