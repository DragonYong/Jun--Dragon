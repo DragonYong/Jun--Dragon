{
 "cells": [
  {
   "cell_type": "code",
   "execution_count": 1,
   "metadata": {},
   "outputs": [],
   "source": [
    "import lightgbm as lgb\n",
    "import time"
   ]
  },
  {
   "cell_type": "code",
   "execution_count": 2,
   "metadata": {},
   "outputs": [],
   "source": [
    "#讀取data資料\n",
    "train_data = lgb.Dataset(r'LightGBM/examples/parallel_learning/binary.train')"
   ]
  },
  {
   "cell_type": "code",
   "execution_count": 3,
   "metadata": {},
   "outputs": [],
   "source": [
    "#設定lightgbm參數，gpu版本測試\n",
    "params = {'max_bin': 63,\n",
    "'num_leaves': 255,\n",
    "'learning_rate': 0.1,\n",
    "'tree_learner': 'serial',\n",
    "'task': 'train',\n",
    "'is_training_metric': 'false',\n",
    "'min_data_in_leaf': 1,\n",
    "'min_sum_hessian_in_leaf': 100,\n",
    "'ndcg_eval_at': [1,3,5,10],\n",
    "'sparse_threshold': 1.0,\n",
    "'device': 'gpu',\n",
    "'gpu_platform_id': -1,\n",
    "'gpu_device_id': -1}"
   ]
  },
  {
   "cell_type": "code",
   "execution_count": 4,
   "metadata": {},
   "outputs": [],
   "source": [
    "t0 = time.time()"
   ]
  },
  {
   "cell_type": "code",
   "execution_count": 5,
   "metadata": {},
   "outputs": [
    {
     "name": "stdout",
     "output_type": "stream",
     "text": [
      "gpu version elapse time: 0.900763988494873\n"
     ]
    }
   ],
   "source": [
    "#執行模型訓練\n",
    "gbm = lgb.train(params, train_set=train_data, num_boost_round=10,\n",
    "valid_sets=None, valid_names=None,\n",
    "fobj=None, feval=None, init_model=None,\n",
    "feature_name='auto', categorical_feature='auto',\n",
    "early_stopping_rounds=None, evals_result=None,\n",
    "verbose_eval=True,\n",
    "keep_training_booster=False, callbacks=None)\n",
    "t1 = time.time()\n",
    "#顯示執行時間\n",
    "print('gpu version elapse time: {}'.format(t1-t0))"
   ]
  },
  {
   "cell_type": "code",
   "execution_count": 6,
   "metadata": {},
   "outputs": [],
   "source": [
    "#設定lightgbm參數，cpu版本\n",
    "params = {'max_bin': 63,\n",
    "'num_leaves': 255,\n",
    "'learning_rate': 0.1,\n",
    "'tree_learner': 'serial',\n",
    "'task': 'train',\n",
    "'is_training_metric': 'false',\n",
    "'min_data_in_leaf': 1,\n",
    "'min_sum_hessian_in_leaf': 100,\n",
    "'ndcg_eval_at': [1,3,5,10],\n",
    "'sparse_threshold': 1.0,\n",
    "'device': 'cpu'\n",
    "}\n",
    "t0 = time.time()"
   ]
  },
  {
   "cell_type": "code",
   "execution_count": 7,
   "metadata": {},
   "outputs": [],
   "source": [
    "#執行模型訓練\n",
    "gbm = lgb.train(params, train_set=train_data, num_boost_round=10,\n",
    "valid_sets=None, valid_names=None,\n",
    "fobj=None, feval=None, init_model=None,\n",
    "feature_name='auto', categorical_feature='auto',\n",
    "early_stopping_rounds=None, evals_result=None,\n",
    "verbose_eval=True,\n",
    "keep_training_booster=False, callbacks=None)\n",
    "t1 = time.time()"
   ]
  },
  {
   "cell_type": "code",
   "execution_count": 8,
   "metadata": {},
   "outputs": [
    {
     "data": {
      "text/plain": [
       "1592055721.1917706"
      ]
     },
     "execution_count": 8,
     "metadata": {},
     "output_type": "execute_result"
    }
   ],
   "source": [
    "t0"
   ]
  },
  {
   "cell_type": "code",
   "execution_count": 9,
   "metadata": {},
   "outputs": [
    {
     "data": {
      "text/plain": [
       "1592055736.7500021"
      ]
     },
     "execution_count": 9,
     "metadata": {},
     "output_type": "execute_result"
    }
   ],
   "source": [
    "t1"
   ]
  }
 ],
 "metadata": {
  "kernelspec": {
   "display_name": "Python 3",
   "language": "python",
   "name": "python3"
  },
  "language_info": {
   "codemirror_mode": {
    "name": "ipython",
    "version": 3
   },
   "file_extension": ".py",
   "mimetype": "text/x-python",
   "name": "python",
   "nbconvert_exporter": "python",
   "pygments_lexer": "ipython3",
   "version": "3.6.8"
  }
 },
 "nbformat": 4,
 "nbformat_minor": 4
}
