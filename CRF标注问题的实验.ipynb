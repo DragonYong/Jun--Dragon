{
 "cells": [
  {
   "cell_type": "code",
   "execution_count": 1,
   "metadata": {},
   "outputs": [],
   "source": [
    "import numpy as  np\n",
    "import tensorflow as  tf"
   ]
  },
  {
   "cell_type": "markdown",
   "metadata": {},
   "source": [
    "#### 设置参数"
   ]
  },
  {
   "cell_type": "code",
   "execution_count": 2,
   "metadata": {},
   "outputs": [],
   "source": [
    "num_exam=10\n",
    "num_words=20\n",
    "num_feat=100\n",
    "num_tags=5"
   ]
  },
  {
   "cell_type": "markdown",
   "metadata": {},
   "source": [
    "#### 构建随机特征"
   ]
  },
  {
   "cell_type": "code",
   "execution_count": 3,
   "metadata": {},
   "outputs": [
    {
     "name": "stdout",
     "output_type": "stream",
     "text": [
      "x: (10, 20, 100)\n",
      "y: (10, 20)\n",
      "length_se: (10,)\n"
     ]
    }
   ],
   "source": [
    "x=np.random.rand(num_exam,num_words,num_feat).astype(np.float32)\n",
    "print(\"x:\",x.shape)\n",
    "#构建随机tag\n",
    "y=np.random.randint(num_tags,size=[num_exam,num_words]).astype(np.int32)\n",
    "print('y:',y.shape)\n",
    "#获取样本句长\n",
    "length_se=np.full(num_exam,num_words,dtype=np.int32)\n",
    "print('length_se:',length_se.shape)"
   ]
  },
  {
   "cell_type": "markdown",
   "metadata": {},
   "source": [
    "#### 训练模型"
   ]
  },
  {
   "cell_type": "code",
   "execution_count": 7,
   "metadata": {},
   "outputs": [
    {
     "name": "stdout",
     "output_type": "stream",
     "text": [
      "x_t:】\t\t\t Tensor(\"Const:0\", shape=(10, 20, 100), dtype=float32)\n",
      "y_t:】\t\t\t Tensor(\"Const_1:0\", shape=(10, 20), dtype=int32)\n",
      "length_se_t:】\t\t\t Tensor(\"Const_2:0\", shape=(10,), dtype=int32)\n",
      "weights:】\t\t\t <tf.Variable 'weights:0' shape=(100, 5) dtype=float32_ref>\n",
      "x_t_matr:】\t\t\t Tensor(\"Reshape:0\", shape=(200, 100), dtype=float32)\n",
      "unary_scores_matr:】\t\t\t Tensor(\"MatMul:0\", shape=(200, 5), dtype=float32)\n",
      "unary_scores:】\t\t\t Tensor(\"Reshape_1:0\", shape=(10, 20, 5), dtype=float32)\n",
      "log_likelihood:】\t\t\t Tensor(\"sub_1:0\", shape=(10,), dtype=float32)\n",
      "tran_params:】\t\t\t <tf.Variable 'transitions:0' shape=(5, 5) dtype=float32_ref>\n",
      "viterbi_sequence, viterbi_score:】\t Tensor(\"ReverseSequence_1:0\", shape=(10, 20), dtype=int32) Tensor(\"Max:0\", shape=(10,), dtype=float32)\n",
      "train_op:】\t\t\t name: \"GradientDescent\"\n",
      "op: \"NoOp\"\n",
      "input: \"^GradientDescent/update_weights/ApplyGradientDescent\"\n",
      "input: \"^GradientDescent/update_transitions/ApplyGradientDescent\"\n",
      "\n",
      "mask:\t\t\t [[ True  True  True  True  True  True  True  True  True  True  True  True\n",
      "   True  True  True  True  True  True  True  True]\n",
      " [ True  True  True  True  True  True  True  True  True  True  True  True\n",
      "   True  True  True  True  True  True  True  True]\n",
      " [ True  True  True  True  True  True  True  True  True  True  True  True\n",
      "   True  True  True  True  True  True  True  True]\n",
      " [ True  True  True  True  True  True  True  True  True  True  True  True\n",
      "   True  True  True  True  True  True  True  True]\n",
      " [ True  True  True  True  True  True  True  True  True  True  True  True\n",
      "   True  True  True  True  True  True  True  True]\n",
      " [ True  True  True  True  True  True  True  True  True  True  True  True\n",
      "   True  True  True  True  True  True  True  True]\n",
      " [ True  True  True  True  True  True  True  True  True  True  True  True\n",
      "   True  True  True  True  True  True  True  True]\n",
      " [ True  True  True  True  True  True  True  True  True  True  True  True\n",
      "   True  True  True  True  True  True  True  True]\n",
      " [ True  True  True  True  True  True  True  True  True  True  True  True\n",
      "   True  True  True  True  True  True  True  True]\n",
      " [ True  True  True  True  True  True  True  True  True  True  True  True\n",
      "   True  True  True  True  True  True  True  True]]\n",
      "获取总标签数: 200\n",
      "Accuracy-NO.0:20.00%\n",
      "Accuracy-NO.100:60.00%\n",
      "Accuracy-NO.200:70.50%\n",
      "Accuracy-NO.300:75.50%\n",
      "Accuracy-NO.400:81.00%\n"
     ]
    }
   ],
   "source": [
    "with tf.Graph().as_default():\n",
    "    with tf.Session() as session:\n",
    "        x_t = tf.constant(x)\n",
    "        print(\"x_t:】\\t\\t\\t\", x_t)\n",
    "\n",
    "        y_t = tf.constant(y)\n",
    "        print(\"y_t:】\\t\\t\\t\", y_t)\n",
    "        length_se_t = tf.constant(length_se)\n",
    "        print(\"length_se_t:】\\t\\t\\t\", length_se_t)\n",
    "        # 增加一个无偏置线性层\n",
    "        weights = tf.get_variable(\"weights\", [num_feat, num_tags])\n",
    "        print(\"weights:】\\t\\t\\t\", weights)\n",
    "        x_t_matr = tf.reshape(x_t, [-1, num_feat])\n",
    "        print(\"x_t_matr:】\\t\\t\\t\", x_t_matr)\n",
    "        unary_scores_matr = tf.matmul(x_t_matr, weights)\n",
    "        print(\"unary_scores_matr:】\\t\\t\\t\", unary_scores_matr)\n",
    "        unary_scores = tf.reshape(unary_scores_matr, [num_exam, num_words, num_tags])\n",
    "        print(\"unary_scores:】\\t\\t\\t\", unary_scores)\n",
    "        # 计算标签序列的log-likelihood并获得转移概率\n",
    "        log_likelihood, tran_params = tf.contrib.crf.crf_log_likelihood(unary_scores, y_t, length_se)\n",
    "        print(\"log_likelihood:】\\t\\t\\t\", log_likelihood)\n",
    "        print(\"tran_params:】\\t\\t\\t\", tran_params)\n",
    "        # 解码\n",
    "        viterbi_sequence, viterbi_score = tf.contrib.crf.crf_decode(unary_scores, tran_params, length_se_t)\n",
    "        print(\"viterbi_sequence, viterbi_score:】\\t\", viterbi_sequence, viterbi_score)\n",
    "        loss = tf.reduce_mean(-log_likelihood)\n",
    "        train_op = tf.train.GradientDescentOptimizer(0.01).minimize(loss)\n",
    "        print(\"train_op:】\\t\\t\\t\", train_op)\n",
    "        session.run(tf.global_variables_initializer())\n",
    "        mask = (np.expand_dims(np.arange(num_words), axis=0) < np.expand_dims(length_se, axis=1))\n",
    "        print(\"mask:\\t\\t\\t\", mask)\n",
    "        # 获取总标签数\n",
    "        total_labels = np.sum(length_se)\n",
    "        print(\"获取总标签数:\", total_labels)\n",
    "        # 开始训练\n",
    "        for i in range(500):\n",
    "            tf_viterbi_sequence, _ = session.run([viterbi_sequence, train_op])\n",
    "            if i % 100 == 0:\n",
    "                correct_lables = np.sum((y == tf_viterbi_sequence) * mask)\n",
    "                accuracy = 100.0 * correct_lables / float(total_labels)\n",
    "                print(\"Accuracy-NO.%d:%.2f%%\" % (i, accuracy))"
   ]
  }
 ],
 "metadata": {
  "kernelspec": {
   "display_name": "Python 3",
   "language": "python",
   "name": "python3"
  },
  "language_info": {
   "codemirror_mode": {
    "name": "ipython",
    "version": 3
   },
   "file_extension": ".py",
   "mimetype": "text/x-python",
   "name": "python",
   "nbconvert_exporter": "python",
   "pygments_lexer": "ipython3",
   "version": "3.7.5"
  },
  "toc": {
   "base_numbering": 1,
   "nav_menu": {},
   "number_sections": true,
   "sideBar": true,
   "skip_h1_title": false,
   "title_cell": "Table of Contents",
   "title_sidebar": "Contents",
   "toc_cell": false,
   "toc_position": {},
   "toc_section_display": true,
   "toc_window_display": false
  }
 },
 "nbformat": 4,
 "nbformat_minor": 4
}
